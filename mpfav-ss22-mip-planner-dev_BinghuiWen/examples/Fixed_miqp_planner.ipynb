{
 "cells": [
  {
   "cell_type": "code",
   "execution_count": 1,
   "metadata": {},
   "outputs": [],
   "source": [
    "from models import MIQPPlanner, CurvState\n",
    "from commonroad.common.file_reader import CommonRoadFileReader\n",
    "from commonroad_dc.pycrccosy import CurvilinearCoordinateSystem\n",
    "from commonroad_route_planner.route_planner import RoutePlanner\n",
    "import os\n",
    "\n"
   ]
  },
  {
   "cell_type": "markdown",
   "metadata": {},
   "source": [
    "## `Planning problem defined in scenario`"
   ]
  },
  {
   "cell_type": "code",
   "execution_count": 2,
   "metadata": {},
   "outputs": [
    {
     "name": "stdout",
     "output_type": "stream",
     "text": [
      "Goal:  None []\n",
      "\n",
      "Initial State: \n",
      "position= [15.  0.]\n",
      "orientation= 0.0\n",
      "velocity= 22.0\n",
      "yaw_rate= 0.0\n",
      "slip_angle= 0.0\n",
      "time_step= 0\n",
      "\n",
      "Id of planning problem: 100\n"
     ]
    }
   ],
   "source": [
    "import matplotlib.pyplot as plt\n",
    "plt.rcParams.update({'figure.max_open_warning': 0})\n",
    "from IPython.display import clear_output\n",
    "from commonroad.visualization.mp_renderer import MPRenderer\n",
    "from commonroad_route_planner.utility.visualization import visualize_route, draw_state\n",
    "\n",
    "scenario_path = os.path.abspath(os.path.join(os.path.abspath(os.getcwd()), \"../scenarios/ZAM_Tutorial-1_2_T-1.xml\"))\n",
    "scenario, planning_problem_set = CommonRoadFileReader(scenario_path).open()\n",
    "planning_problem = list(planning_problem_set.planning_problem_dict.values())[0] #* get the first(and the only one) planning_problem_dict value\n",
    "# print(planning_problem_set.planning_problem_dict.keys()) #* only one planning problem in the set\n",
    "\n",
    "\n",
    "scenario.remove_obstacle(scenario.static_obstacles)\n",
    "scenario.remove_obstacle(scenario.dynamic_obstacles)\n",
    "#! planning_problem goal is empty.\n",
    "goal = planning_problem.goal\n",
    "p_id = planning_problem.planning_problem_id\n",
    "goal_lanelets = goal.lanelets_of_goal_position\n",
    "goal_state = goal.state_list\n",
    "initial_state =planning_problem.initial_state\n",
    "print('Goal: ', goal_lanelets, goal_state)\n",
    "print('\\nInitial State:', initial_state)\n",
    "print(\"Id of planning problem: {}\".format(p_id))"
   ]
  },
  {
   "cell_type": "markdown",
   "metadata": {},
   "source": [
    "## `Show Scenario`"
   ]
  },
  {
   "cell_type": "code",
   "execution_count": 3,
   "metadata": {},
   "outputs": [
    {
     "data": {
      "image/png": "[encoded data removed]",
      "text/plain": [
       "<Figure size 1800x720 with 1 Axes>"
      ]
     },
     "metadata": {
   	"cell_type": "code",
   	"execution_count": 2,
   	"metadata": {},
      "needs_background": "light"
     },
     "output_type": "display_data"
    }
   ],
   "source": [
    "plt.figure(figsize=(25, 10))#! define renderer after figure creation\n",
    "renderer = MPRenderer()\n",
    "scenario.draw(renderer, draw_params={'time_begin': 0}) #! draw_params\n",
    "planning_problem_set.draw(renderer, draw_params={'time_begin': 0}) \n",
    "renderer.draw_ellipse(initial_state.position, 1, 1, {'facecolor': 'blue'}, ()) # draw a circle\n",
    "renderer.render()\n",
    "plt.show()"
   ]
  },
  {
   "cell_type": "markdown",
   "metadata": {},
   "source": [
    "## `Reference path`"
   ]
  },
  {
   "cell_type": "code",
   "execution_count": 4,
   "metadata": {},
   "outputs": [
    {
     "name": "stderr",
     "output_type": "stream",
     "text": [
      "/home/wang/anaconda3/envs/commonroad-py37/lib/python3.7/site-packages/commonroad_route_planner/route.py:309: RuntimeWarning: invalid value encountered in true_divide\n",
      "  return (x_d * y_dd - x_dd * y_d) / ((x_d ** 2 + y_d ** 2) ** (3. / 2.))\n"
     ]
    },
    {
     "name": "stdout",
     "output_type": "stream",
     "text": [
      "\n",
      "Coordinates [x, y]:\n",
      "[[0.00000e+00 0.00000e+00]\n",
      " [7.81250e-03 0.00000e+00]\n",
      " [2.34375e-02 0.00000e+00]\n",
      " ...\n",
      " [1.94000e+02 0.00000e+00]\n",
      " [1.94000e+02 0.00000e+00]\n",
      " [1.94000e+02 0.00000e+00]]\n"
     ]
    },
    {
     "data": {
      "image/png": "[encoded data removed]",
      "text/plain": [
       "<Figure size 1800x168.224 with 1 Axes>"
      ]
     },
     "metadata": {
      "needs_background": "light"
     },
     "output_type": "display_data"
    }
   ],
   "source": [
    "# create the curvilinear coordinate based on a reference path\n",
    "route_planner = RoutePlanner(scenario, planning_problem, backend=RoutePlanner.Backend.NETWORKX_REVERSED)\n",
    "#* NETWORKX: uses built-in functions from the networkx package, tends to change lanes later\n",
    "#* NETWORKX_REVERSED: uses built-in functions from the networkx package, tends to change lanes earlier\n",
    "#* PRIORITY_QUEUE: uses A-star search to find routes, lane change maneuver depends on the heuristic cost\n",
    "\n",
    "\n",
    "# plan routes, and save the routes in a route candidate holder\n",
    "candidate_holder = route_planner.plan_routes()\n",
    "route = candidate_holder.retrieve_first_route()\n",
    "ref_path = route.reference_path\n",
    "\n",
    "print(\"\\nCoordinates [x, y]:\")\n",
    "print(ref_path)  # 1584 * 2 \n",
    "visualize_route(route, draw_route_lanelets=True, draw_reference_path=True, size_x=25)\n",
    "\n",
    "#! Q:\n",
    "#? The initial state defined in planning_problem is not the same as reference path's initial state\n"
   ]
  },
  {
   "cell_type": "markdown",
   "metadata": {},
   "source": [
    "## `Reference path -> curveilinear system`"
   ]
  },
  {
   "cell_type": "code",
   "execution_count": 5,
   "metadata": {},
   "outputs": [
    {
     "name": "stdout",
     "output_type": "stream",
     "text": [
      "3173\n",
      "[194.   0.]\n"
     ]
    }
   ],
   "source": [
    "curvilinear_cosy = CurvilinearCoordinateSystem(ref_path, 25.0, 0.1) #* --> curv_sys\n",
    "#* reference_path – 2D polyline in Cartesian coordinates\n",
    "#* default_projection_domain_limit – maximum absolute distance of the projection domain border from the reference path, defaults to 20\n",
    "#* eps – reduces the lateral distance of the projection domain border from the reference path, defaults to 0.1\n",
    "\n",
    "print(len(curvilinear_cosy.projection_domain()))\n",
    "print(curvilinear_cosy.reference_path()[-1])\n",
    "\n",
    "curv_sys = curvilinear_cosy  # insert CurvilinearCoordinateSystem\n",
    "# curv_sys.compute_and_set_curvature()\n",
    "# print(curv_sys.get_curvature() )"
   ]
  },
  {
   "cell_type": "markdown",
   "metadata": {},
   "source": [
    "## `target lanelet`"
   ]
  },
  {
   "cell_type": "code",
   "execution_count": 6,
   "metadata": {},
   "outputs": [
    {
     "data": {
      "image/png": "[encoded data removed]",
      "text/plain": [
       "<Figure size 1800x720 with 1 Axes>"
      ]
     },
     "metadata": {
      "needs_background": "light"
     },
     "output_type": "display_data"
    }
   ],
   "source": [
    "\n",
    "target_lanelet = scenario.lanelet_network.find_lanelet_by_id(2)  # TODO: insert target lane as Lanelet\n",
    "\n",
    "#* Show target lanelet\n",
    "plt.figure(figsize=(25, 10))#! define renderer after figure creation\n",
    "renderer = MPRenderer()\n",
    "scenario.draw(renderer, draw_params={'time_begin': 0}) #! draw_params\n",
    "target_lanelet.convert_to_polygon().draw(renderer, draw_params={'facecolor': 'yellow'})\n",
    "# print(target_lanelet.convert_to_polygon().vertices)\n",
    "renderer.render()\n",
    "plt.show()"
   ]
  },
  {
   "cell_type": "code",
   "execution_count": 8,
   "metadata": {},
   "outputs": [
    {
     "name": "stdout",
     "output_type": "stream",
     "text": [
      "Set parameter Username\n",
      "Academic license - for non-commercial use only - expires 2022-07-05\n"
     ]
    }
   ],
   "source": [
    "init_state_curvlinear = CurvState(s=initial_state.position[0], ds=5.0, dds=0.0)  # example; s: x-direction\n",
    "nT=120 # n_time_steps\n",
    "dt=0.2 # duration of each time_step\n",
    "\n",
    "\n",
    "planner = MIQPPlanner(init_state_curvlinear, n_time_steps=nT, min_duration=[0.2, 1.4, 0.2], dt=dt, curv_sys=curv_sys)\n",
    "\n",
    "\n",
    "# S_param = ScenarioParams()\n",
    "# planner = MIQPPlanner(init_state_curvlinear, n_time_steps=nT, min_duration=[0.2, 1.0, 0.2], dt=dt, curv_sys=curv_sys, S_param) \n",
    "\n",
    "\n",
    "# longitudinal constraints\n",
    "s_constraints = [np.array([[0, 20]]*nT),  # initial lane  #! element shape 30 * 2, List length 3\n",
    "                    np.array([[5, 20]]*nT),  # during lane change\n",
    "                    np.array([[5, 200]]*nT)]  # target lane\n",
    "\n",
    "planner.set_long_constraints(s_constraints)"
   ]
  },
  {
   "cell_type": "code",
   "execution_count": 9,
   "metadata": {},
   "outputs": [],
   "source": [
    "planner.model.update()\n",
    "# planner.model.display()"
   ]
  },
  {
   "cell_type": "code",
   "execution_count": 10,
   "metadata": {},
   "outputs": [
    {
     "name": "stdout",
     "output_type": "stream",
     "text": [
      "Update succeeds.\n",
      "Gurobi Optimizer version 9.5.1 build v9.5.1rc2 (linux64)\n",
      "Thread count: 4 physical cores, 8 logical processors, using up to 8 threads\n",
      "Optimize a model with 1684 rows, 843 columns and 5158 nonzeros\n",
      "Model fingerprint: 0x07829c2c\n",
      "Model has 240 quadratic objective terms\n",
      "Variable types: 483 continuous, 360 integer (360 binary)\n",
      "Coefficient statistics:\n",
      "  Matrix range     [2e-04, 3e+02]\n",
      "  Objective range  [0e+00, 0e+00]\n",
      "  QObjective range [2e-02, 2e+01]\n",
      "  Bounds range     [1e+00, 8e+02]\n",
      "  RHS range        [1e+00, 5e+02]\n",
      "Presolve removed 1437 rows and 478 columns\n",
      "Presolve time: 0.17s\n",
      "Presolved: 247 rows, 365 columns, 1088 nonzeros\n",
      "Presolved model has 239 quadratic objective terms\n",
      "Variable types: 365 continuous, 0 integer (0 binary)\n",
      "Root relaxation presolve removed 1 rows and 1 columns\n",
      "Root relaxation presolve time: 0.35s\n",
      "Root relaxation presolved: 246 rows, 364 columns, 1086 nonzeros\n",
      "Root relaxation presolved model has 239 quadratic objective terms\n",
      "Root barrier log...\n",
      "\n",
      "Ordering time: 0.00s\n",
      "\n",
      "Barrier statistics:\n",
      " AA' NZ     : 7.300e+02\n",
      " Factor NZ  : 4.236e+03\n",
      " Factor Ops : 9.031e+04 (less than 1 second per iteration)\n",
      " Threads    : 1\n",
      "\n",
      "                  Objective                Residual\n",
      "Iter       Primal          Dual         Primal    Dual     Compl     Time\n",
      "   0   3.70797061e+07 -4.85250974e+07  7.88e+03 3.12e+02  1.01e+06     0s\n",
      "   1   3.76257780e+03 -8.86699726e+06  9.89e+01 3.92e+00  2.44e+04     0s\n",
      "   2   2.05902494e+03 -3.83887982e+06  6.63e+00 2.63e-01  6.11e+03     0s\n",
      "   3   2.89299335e+02 -1.45694576e+06  2.96e-01 1.17e-02  2.03e+03     0s\n",
      "   4   2.54872846e+02 -1.54393709e+04  2.75e-03 1.09e-04  2.15e+01     0s\n",
      "   5   2.83340650e+01 -2.10707345e+03  2.69e-04 1.07e-05  2.93e+00     0s\n",
      "   6   1.61161529e-01 -6.30903937e+01  3.34e-06 1.32e-07  8.66e-02     0s\n",
      "   7   2.18559653e-05 -1.12101124e-01  3.35e-12 1.33e-13  1.54e-04     0s\n",
      "   8   2.18278728e-11 -1.12703769e-04  4.05e-14 3.55e-15  1.54e-07     0s\n",
      "   9  -7.27595761e-12 -1.12697307e-07  2.73e-14 3.55e-15  1.54e-10     0s\n",
      "  10  -4.36557457e-11 -1.01863407e-10  2.88e-14 3.55e-15  1.55e-13     0s\n",
      "\n",
      "Barrier solved model in 10 iterations and 0.45 seconds (0.04 work units)\n",
      "Optimal objective -4.36557457e-11\n",
      "\n",
      "\n",
      "Root relaxation: objective -4.365575e-11, 0 iterations, 0.11 seconds (0.00 work units)\n",
      "\n",
      "    Nodes    |    Current Node    |     Objective Bounds      |     Work\n",
      " Expl Unexpl |  Obj  Depth IntInf | Incumbent    BestBd   Gap | It/Node Time\n",
      "\n",
      "*    0     0               0       0.0000000    0.00000  0.00%     -    0s\n",
      "\n",
      "Explored 1 nodes (0 simplex iterations) in 0.47 seconds (0.04 work units)\n",
      "Thread count was 8 (of 8 available processors)\n",
      "\n",
      "Solution count 1: 2.19105e-23 \n",
      "\n",
      "Optimal solution found (tolerance 1.00e-04)\n",
      "Best objective 2.191047452271e-23, best bound 0.000000000000e+00, gap 0.0000%\n",
      "Optimize ends.\n",
      "2\n"
     ]
    }
   ],
   "source": [
    "long_state_list, time_intervals = planner.solve_longitudinal()"
   ]
  },
  {
   "cell_type": "code",
   "execution_count": 11,
   "metadata": {},
   "outputs": [
    {
     "name": "stdout",
     "output_type": "stream",
     "text": [
      "mode 0: 1\n",
      "mode 1: 8\n",
      "mode 2: 111\n",
      "----------------------------------------------\n"
     ]
    }
   ],
   "source": [
    "for i in range(3):\n",
    "    print('mode {}:'.format(i), time_intervals[i].length+1)\n",
    "print('----------------------------------------------')\n",
    "targe_center_line = target_lanelet.center_vertices # TODO\n"
   ]
  },
  {
   "cell_type": "code",
   "execution_count": 12,
   "metadata": {},
   "outputs": [],
   "source": [
    "# for v in planner.model.getVars():\n",
    "#     print(v.varName, v.X)"
   ]
  },
  {
   "cell_type": "code",
   "execution_count": 13,
   "metadata": {},
   "outputs": [
    {
     "name": "stderr",
     "output_type": "stream",
     "text": [
      "/home/wang/文档/KI/CommonRoad/mpfav-ss22-mip-planner-dev_BinghuiWen/examples/models.py:179: UserWarning: Lanes might diverge after s= 194.00029999999998!\n",
      "  warnings.warn('Lanes might diverge after s= {}!'.format(pos_map[-1][0]))\n"
     ]
    },
    {
     "name": "stdout",
     "output_type": "stream",
     "text": [
      "===============================================================================\n",
      "                                     CVXPY                                     \n",
      "                                     v1.2.0                                    \n",
      "===============================================================================\n",
      "(CVXPY) May 12 03:02:33 PM: Your problem has 483 variables, 601 constraints, and 0 parameters.\n",
      "(CVXPY) May 12 03:02:33 PM: It is compliant with the following grammars: DCP, DQCP\n",
      "(CVXPY) May 12 03:02:33 PM: (If you need to solve this problem multiple times, but with different data, consider using parameters.)\n",
      "(CVXPY) May 12 03:02:33 PM: CVXPY will first compile your problem; then, it will invoke a numerical solver to obtain a solution.\n",
      "-------------------------------------------------------------------------------\n",
      "                                  Compilation                                  \n",
      "-------------------------------------------------------------------------------\n",
      "(CVXPY) May 12 03:02:33 PM: Compiling problem (target solver=OSQP).\n",
      "(CVXPY) May 12 03:02:33 PM: Reduction chain: CvxAttr2Constr -> Qp2SymbolicQp -> QpMatrixStuffing -> OSQP\n",
      "(CVXPY) May 12 03:02:33 PM: Applying reduction CvxAttr2Constr\n",
      "(CVXPY) May 12 03:02:33 PM: Applying reduction Qp2SymbolicQp\n",
      "(CVXPY) May 12 03:02:33 PM: Applying reduction QpMatrixStuffing\n",
      "(CVXPY) May 12 03:02:34 PM: Applying reduction OSQP\n",
      "(CVXPY) May 12 03:02:34 PM: Finished problem compilation (took 4.654e-01 seconds).\n",
      "-------------------------------------------------------------------------------\n",
      "                                Numerical solver                               \n",
      "-------------------------------------------------------------------------------\n",
      "(CVXPY) May 12 03:02:34 PM: Invoking solver OSQP  to obtain a solution.\n",
      "-----------------------------------------------------------------\n",
      "           OSQP v0.6.2  -  Operator Splitting QP Solver\n",
      "              (c) Bartolomeo Stellato,  Goran Banjac\n",
      "        University of Oxford  -  Stanford University 2021\n",
      "-----------------------------------------------------------------\n",
      "problem:  variables n = 963, constraints m = 1803\n",
      "          nnz(P) + nnz(A) = 3723\n",
      "settings: linear system solver = qdldl,\n",
      "          eps_abs = 1.0e-05, eps_rel = 1.0e-05,\n",
      "          eps_prim_inf = 1.0e-04, eps_dual_inf = 1.0e-04,\n",
      "          rho = 1.00e-01 (adaptive),\n",
      "          sigma = 1.00e-06, alpha = 1.60, max_iter = 10000\n",
      "          check_termination: on (interval 25),\n",
      "          scaling: on, scaled_termination: off\n",
      "          warm start: on, polish: on, time_limit: off\n",
      "\n",
      "iter   objective    pri res    dua res    rho        time\n",
      "   1   0.0000e+00   3.50e+00   3.50e+02   1.00e-01   1.99e-03s\n",
      " 200   1.3629e+03   5.57e-04   1.55e-04   1.00e-01   1.32e-02s\n",
      " 275   1.3675e+03   7.68e-05   2.14e-05   1.00e-01   1.75e-02s\n",
      "plsh   1.3682e+03   1.44e-10   3.98e-12   --------   1.96e-02s\n",
      "\n",
      "status:               solved\n",
      "solution polish:      successful\n",
      "number of iterations: 275\n",
      "optimal objective:    1368.2361\n",
      "run time:             1.96e-02s\n",
      "optimal rho estimate: 1.95e-01\n",
      "\n",
      "-------------------------------------------------------------------------------\n",
      "                                    Summary                                    \n",
      "-------------------------------------------------------------------------------\n",
      "(CVXPY) May 12 03:02:34 PM: Problem status: optimal\n",
      "(CVXPY) May 12 03:02:34 PM: Optimal value: 1.368e+03\n",
      "(CVXPY) May 12 03:02:34 PM: Compilation took 4.654e-01 seconds\n",
      "(CVXPY) May 12 03:02:34 PM: Solver (including time spent in interface) took 2.507e-02 seconds\n"
     ]
    }
   ],
   "source": [
    "planner.solve_lateral(targe_center_line, time_intervals)\n"
   ]
  },
  {
   "cell_type": "code",
   "execution_count": 25,
   "metadata": {},
   "outputs": [
    {
     "data": {
      "image/png": "[encoded data removed]",
      "text/plain": [
       "<Figure size 1800x720 with 1 Axes>"
      ]
     },
     "metadata": {
      "needs_background": "light"
     },
     "output_type": "display_data"
    }
   ],
   "source": [
    "curvilinear_state_list = planner.states.state_list_cr\n",
    "\n",
    "\n",
    "\n",
    "for i in range(len(curvilinear_state_list)):\n",
    "    plt.figure(figsize=(25, 10))\n",
    "    renderer = MPRenderer()\n",
    "    \n",
    "    clear_output(wait=True)    \n",
    "    scenario.draw(renderer, draw_params={'time_begin': i*dt})\n",
    "    draw_state(renderer, curvilinear_state_list[i])\n",
    "\n",
    "    \n",
    "    renderer.render()\n",
    "    plt.show()\n",
    "\n",
    "\n",
    "\n"
   ]
  },
  {
   "cell_type": "code",
   "execution_count": 132,
   "metadata": {},
   "outputs": [
    {
     "data": {
      "image/png": "[encoded data removed]",
      "text/plain": [
       "<Figure size 1440x720 with 6 Axes>"
      ]
     },
     "metadata": {
      "needs_background": "light"
     },
     "output_type": "display_data"
    }
   ],
   "source": [
    "T = np.arange(0, nT*dt, dt)\n",
    "x = np.empty(nT)\n",
    "vx = np.empty(nT)\n",
    "ax = np.empty(nT)\n",
    "y = np.empty(nT)\n",
    "vy = np.empty(nT)\n",
    "ay = np.empty(nT)\n",
    "\n",
    "for i in range(nT):\n",
    "    ax[i] = planner.states.state_list[i].dds_float\n",
    "    vx[i] = planner.states.state_list[i].ds_float\n",
    "    x [i] = planner.states.state_list[i].s_float\n",
    "    ay[i] = planner.states.state_list[i].ddd\n",
    "    vy[i] = planner.states.state_list[i].dd\n",
    "    y [i] = planner.states.state_list[i].d\n",
    "\n",
    "fig, axis = plt.subplots(3, 2, figsize=(20, 10))\n",
    "#longitudinal visualization\n",
    "axis[2,0].set_xlabel(\"time / s\") \n",
    "axis[2,0].set_ylabel(\"longitudinal acceleration / (m/${s^2}$)\")\n",
    "axis[2,0].set_ylim([-1, 1.5])\n",
    "axis[2,0].plot(T, ax)\n",
    "\n",
    "axis[1,0].set_xlabel(\"time / s\") \n",
    "axis[1,0].set_ylabel(\"longitudinal velocity / (m/s)\")\n",
    "axis[1,0].set_ylim([4, 6])\n",
    "axis[1,0].plot(T, vx)\n",
    "\n",
    "axis[0,0].set_xlabel(\"time / s\") \n",
    "axis[0,0].set_ylabel(\"longitudinal position / m\")\n",
    "axis[0,0].plot(T, x)\n",
    "\n",
    "#lateral visualization\n",
    "axis[2,1].set_xlabel(\"time / s\")\n",
    "axis[2,1].set_ylim([-1, 1.5])\n",
    "axis[2,1].set_ylabel(\"lateral acceleration / (m/${s^2}$)\")\n",
    "axis[2,1].plot(T, ay)\n",
    "\n",
    "axis[1,1].set_xlabel(\"time / s\") \n",
    "axis[1,1].set_ylabel(\"lateral velocity / (m/s)\")\n",
    "axis[1,1].plot(T, vy)\n",
    "\n",
    "axis[0,1].set_xlabel(\"time / s\") \n",
    "axis[0,1].set_ylabel(\"lateral position / m\")\n",
    "axis[0,1].plot(T, y)\n",
    "\n",
    "plt.subplots_adjust(wspace=0.2, hspace=0.5)\n",
    "plt.show()"
   ]
  },
  {
   "cell_type": "code",
   "execution_count": null,
   "metadata": {},
   "outputs": [],
   "source": []
  }
 ],
 "metadata": {
  "interpreter": {
   "hash": "83b373d173c87f5c44968c5888e55580306ce4b751cebc3f5b047ff01bbb4260"
  },
  "kernelspec": {
   "display_name": "Python 3 (ipykernel)",
   "language": "python",
   "name": "python3"
  },
  "language_info": {
   "codemirror_mode": {
    "name": "ipython",
    "version": 3
   },
   "file_extension": ".py",
   "mimetype": "text/x-python",
   "name": "python",
   "nbconvert_exporter": "python",
   "pygments_lexer": "ipython3",
   "version": "3.7.11"
  }
 },
 "nbformat": 4,
 "nbformat_minor": 2
}
